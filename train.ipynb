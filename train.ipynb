{
 "cells": [
  {
   "cell_type": "code",
   "execution_count": 1,
   "metadata": {
    "colab": {
     "base_uri": "https://localhost:8080/",
     "height": 122
    },
    "colab_type": "code",
    "id": "J5xkg1DhgFfj",
    "outputId": "3de24fc2-373e-4e17-b2de-c6d3dacc8b60"
   },
   "outputs": [
    {
     "name": "stdout",
     "output_type": "stream",
     "text": [
      "Go to this URL in a browser: https://accounts.google.com/o/oauth2/auth?client_id=947318989803-6bn6qk8qdgf4n4g3pfee6491hc0brc4i.apps.googleusercontent.com&redirect_uri=urn%3Aietf%3Awg%3Aoauth%3A2.0%3Aoob&scope=email%20https%3A%2F%2Fwww.googleapis.com%2Fauth%2Fdocs.test%20https%3A%2F%2Fwww.googleapis.com%2Fauth%2Fdrive%20https%3A%2F%2Fwww.googleapis.com%2Fauth%2Fdrive.photos.readonly%20https%3A%2F%2Fwww.googleapis.com%2Fauth%2Fpeopleapi.readonly&response_type=code\n",
      "\n",
      "Enter your authorization code:\n",
      "··········\n",
      "Mounted at /content/drive\n"
     ]
    }
   ],
   "source": [
    "#mount my drive to colab\n",
    "from google.colab import drive\n",
    "drive.mount('/content/drive')"
   ]
  },
  {
   "cell_type": "code",
   "execution_count": 2,
   "metadata": {
    "colab": {
     "base_uri": "https://localhost:8080/",
     "height": 34
    },
    "colab_type": "code",
    "id": "D5BmXCASSJRj",
    "outputId": "60b02310-11d5-4f2f-880f-24ad001357fa"
   },
   "outputs": [
    {
     "name": "stderr",
     "output_type": "stream",
     "text": [
      "Using TensorFlow backend.\n"
     ]
    }
   ],
   "source": [
    "from tensorflow.python import keras\n",
    "import pandas as pd\n",
    "import numpy as np\n",
    "import matplotlib.pyplot as plt\n",
    "from keras.applications import ResNet50\n",
    "from keras.preprocessing.image import ImageDataGenerator\n",
    "from keras.models import Model\n",
    "from keras.optimizers import Adam\n",
    "from keras.applications.resnet50 import ResNet50, preprocess_input\n",
    "from keras.layers import Dense, Activation, Flatten, Dropout\n",
    "from keras.models import Sequential, Model\n",
    "from keras.models import load_model\n",
    "from keras.callbacks import ModelCheckpoint\n",
    "import cv2\n",
    "import glob\n",
    "import statistics \n",
    "from statistics import mode"
   ]
  },
  {
   "cell_type": "code",
   "execution_count": 3,
   "metadata": {
    "colab": {
     "base_uri": "https://localhost:8080/",
     "height": 360
    },
    "colab_type": "code",
    "id": "RR4cxGTVZp7-",
    "outputId": "1ef3646c-71c9-478c-c18d-a5e8690da59f"
   },
   "outputs": [
    {
     "name": "stderr",
     "output_type": "stream",
     "text": [
      "WARNING: Logging before flag parsing goes to stderr.\n",
      "W0718 14:08:06.110000 139997671135104 deprecation_wrapper.py:119] From /usr/local/lib/python3.6/dist-packages/keras/backend/tensorflow_backend.py:74: The name tf.get_default_graph is deprecated. Please use tf.compat.v1.get_default_graph instead.\n",
      "\n",
      "W0718 14:08:06.145594 139997671135104 deprecation_wrapper.py:119] From /usr/local/lib/python3.6/dist-packages/keras/backend/tensorflow_backend.py:517: The name tf.placeholder is deprecated. Please use tf.compat.v1.placeholder instead.\n",
      "\n",
      "W0718 14:08:06.157252 139997671135104 deprecation_wrapper.py:119] From /usr/local/lib/python3.6/dist-packages/keras/backend/tensorflow_backend.py:4185: The name tf.truncated_normal is deprecated. Please use tf.random.truncated_normal instead.\n",
      "\n",
      "W0718 14:08:06.191041 139997671135104 deprecation_wrapper.py:119] From /usr/local/lib/python3.6/dist-packages/keras/backend/tensorflow_backend.py:174: The name tf.get_default_session is deprecated. Please use tf.compat.v1.get_default_session instead.\n",
      "\n",
      "W0718 14:08:06.192022 139997671135104 deprecation_wrapper.py:119] From /usr/local/lib/python3.6/dist-packages/keras/backend/tensorflow_backend.py:181: The name tf.ConfigProto is deprecated. Please use tf.compat.v1.ConfigProto instead.\n",
      "\n",
      "W0718 14:08:09.016649 139997671135104 deprecation_wrapper.py:119] From /usr/local/lib/python3.6/dist-packages/keras/backend/tensorflow_backend.py:1834: The name tf.nn.fused_batch_norm is deprecated. Please use tf.compat.v1.nn.fused_batch_norm instead.\n",
      "\n",
      "W0718 14:08:09.093810 139997671135104 deprecation_wrapper.py:119] From /usr/local/lib/python3.6/dist-packages/keras/backend/tensorflow_backend.py:3976: The name tf.nn.max_pool is deprecated. Please use tf.nn.max_pool2d instead.\n",
      "\n",
      "/usr/local/lib/python3.6/dist-packages/keras_applications/resnet50.py:265: UserWarning: The output shape of `ResNet50(include_top=False)` has been changed since Keras 2.2.0.\n",
      "  warnings.warn('The output shape of `ResNet50(include_top=False)` '\n"
     ]
    },
    {
     "name": "stdout",
     "output_type": "stream",
     "text": [
      "Downloading data from https://github.com/fchollet/deep-learning-models/releases/download/v0.2/resnet50_weights_tf_dim_ordering_tf_kernels_notop.h5\n",
      "94658560/94653016 [==============================] - 1s 0us/step\n"
     ]
    }
   ],
   "source": [
    "base_model = ResNet50(weights='imagenet',include_top=False,input_shape=(300, 300, 3))"
   ]
  },
  {
   "cell_type": "code",
   "execution_count": 6,
   "metadata": {
    "colab": {
     "base_uri": "https://localhost:8080/",
     "height": 34
    },
    "colab_type": "code",
    "id": "YbTB01GOapxs",
    "outputId": "42f1a1b0-a4e9-4b64-8ccc-3bd23e7e0e1c"
   },
   "outputs": [
    {
     "name": "stdout",
     "output_type": "stream",
     "text": [
      "Found 15039 images belonging to 10 classes.\n"
     ]
    }
   ],
   "source": [
    "TRAIN_DIR = '/content/drive/My Drive/Sign language proj/Data/train'\n",
    "HEIGHT = 300\n",
    "WIDTH = 300\n",
    "BATCH_SIZE = 8\n",
    "\n",
    "train_datagen =  ImageDataGenerator(preprocessing_function=preprocess_input)\n",
    "\n",
    "train_generator = train_datagen.flow_from_directory(TRAIN_DIR, \n",
    "                                                    target_size=(HEIGHT, WIDTH),\n",
    "                                                    batch_size=BATCH_SIZE)"
   ]
  },
  {
   "cell_type": "code",
   "execution_count": 5,
   "metadata": {
    "colab": {
     "base_uri": "https://localhost:8080/",
     "height": 34
    },
    "colab_type": "code",
    "id": "uaBs5ChvgcRW",
    "outputId": "58e599b5-c592-4ff5-a74c-506037e6aca8"
   },
   "outputs": [
    {
     "name": "stdout",
     "output_type": "stream",
     "text": [
      "Found 2816 images belonging to 10 classes.\n"
     ]
    }
   ],
   "source": [
    "VAL_DIR = '/content/drive/My Drive/Sign language proj/Data/val'\n",
    "HEIGHT = 300\n",
    "WIDTH = 300\n",
    "BATCH_SIZE = 8\n",
    "\n",
    "val_datagen =  ImageDataGenerator(preprocessing_function=preprocess_input)\n",
    "\n",
    "val_generator = val_datagen.flow_from_directory(VAL_DIR, \n",
    "                                                    target_size=(HEIGHT, WIDTH),\n",
    "                                                    batch_size=BATCH_SIZE)"
   ]
  },
  {
   "cell_type": "markdown",
   "metadata": {
    "colab_type": "text",
    "id": "q1yCBByOa0H3"
   },
   "source": [
    "## Building the model"
   ]
  },
  {
   "cell_type": "code",
   "execution_count": 7,
   "metadata": {
    "colab": {
     "base_uri": "https://localhost:8080/",
     "height": 88
    },
    "colab_type": "code",
    "id": "xk5dhUJEa77q",
    "outputId": "3135fbb5-26a3-4c47-8026-cc78a90587fb"
   },
   "outputs": [
    {
     "name": "stderr",
     "output_type": "stream",
     "text": [
      "W0718 14:10:32.649986 139997671135104 deprecation.py:506] From /usr/local/lib/python3.6/dist-packages/keras/backend/tensorflow_backend.py:3445: calling dropout (from tensorflow.python.ops.nn_ops) with keep_prob is deprecated and will be removed in a future version.\n",
      "Instructions for updating:\n",
      "Please use `rate` instead of `keep_prob`. Rate should be set to `rate = 1 - keep_prob`.\n"
     ]
    }
   ],
   "source": [
    "def build_finetune_model(base_model, dropout, fc_layers, num_classes):\n",
    "    for layer in base_model.layers:\n",
    "        layer.trainable = False\n",
    "\n",
    "    x = base_model.output\n",
    "    x = Flatten()(x)\n",
    "    for fc in fc_layers:\n",
    "        # New FC layer, random init\n",
    "        x = Dense(fc, activation='relu')(x) \n",
    "        x = Dropout(dropout)(x)\n",
    "\n",
    "    # New softmax layer\n",
    "    predictions = Dense(num_classes, activation='softmax')(x) \n",
    "       \n",
    "    finetune_model = Model(inputs=base_model.input, outputs=predictions)\n",
    "    return finetune_model\n",
    "\n",
    "FC_LAYERS = [1024, 1024]\n",
    "dropout = 0.5\n",
    "\n",
    "finetune_model = build_finetune_model(base_model, \n",
    "                                      dropout=dropout, \n",
    "                                      fc_layers=FC_LAYERS,\n",
    "                                      num_classes=10)                             "
   ]
  },
  {
   "cell_type": "markdown",
   "metadata": {
    "colab_type": "text",
    "id": "CNB66s86YHzs"
   },
   "source": [
    "## Train the model"
   ]
  },
  {
   "cell_type": "code",
   "execution_count": 8,
   "metadata": {
    "colab": {
     "base_uri": "https://localhost:8080/",
     "height": 539
    },
    "colab_type": "code",
    "id": "8qKd7vnEmuGJ",
    "outputId": "7ef18db8-8e85-492d-caa0-4308cce2a39d"
   },
   "outputs": [
    {
     "name": "stderr",
     "output_type": "stream",
     "text": [
      "W0718 14:11:17.365897 139997671135104 deprecation_wrapper.py:119] From /usr/local/lib/python3.6/dist-packages/keras/optimizers.py:790: The name tf.train.Optimizer is deprecated. Please use tf.compat.v1.train.Optimizer instead.\n",
      "\n",
      "W0718 14:11:17.467136 139997671135104 deprecation.py:323] From /usr/local/lib/python3.6/dist-packages/tensorflow/python/ops/math_grad.py:1250: add_dispatch_support.<locals>.wrapper (from tensorflow.python.ops.array_ops) is deprecated and will be removed in a future version.\n",
      "Instructions for updating:\n",
      "Use tf.where in 2.0, which has the same broadcast rule as np.where\n"
     ]
    },
    {
     "name": "stdout",
     "output_type": "stream",
     "text": [
      "Epoch 1/2\n",
      "1879/1879 [==============================] - 673s 358ms/step - loss: 0.6090 - acc: 0.8217 - val_loss: 0.1836 - val_acc: 0.9396\n",
      "\n",
      "Epoch 00001: saving model to /content/drive/My Drive/Sign language proj/weights-test.h5\n",
      "Epoch 2/2\n",
      "1879/1879 [==============================] - 466s 248ms/step - loss: 0.1236 - acc: 0.9610 - val_loss: 0.0856 - val_acc: 0.9695\n",
      "\n",
      "Epoch 00002: saving model to /content/drive/My Drive/Sign language proj/weights-test.h5\n"
     ]
    },
    {
     "data": {
      "image/png": "[encoded data removed]",
      "text/plain": [
       "<Figure size 432x288 with 1 Axes>"
      ]
     },
     "metadata": {
      "tags": []
     },
     "output_type": "display_data"
    },
    {
     "data": {
      "text/plain": [
       "<Figure size 432x288 with 0 Axes>"
      ]
     },
     "metadata": {
      "tags": []
     },
     "output_type": "display_data"
    }
   ],
   "source": [
    "NUM_EPOCHS = 2\n",
    "BATCH_SIZE = 8\n",
    "num_train_images = 15039\n",
    "num_val_images = 2816 \n",
    "\n",
    "adam = Adam(lr=0.00001)\n",
    "finetune_model.compile(adam, loss='categorical_crossentropy', metrics=['accuracy'])\n",
    "\n",
    "filepath=\"/content/drive/My Drive/Sign language proj/\" + \"weights.h5\"\n",
    "checkpoint = ModelCheckpoint(filepath, monitor=[\"acc\"], verbose=1, mode='max')\n",
    "callbacks_list = [checkpoint]\n",
    "\n",
    "history = finetune_model.fit_generator(generator=train_generator, epochs=NUM_EPOCHS, workers=8, \n",
    "                                       steps_per_epoch=num_train_images // BATCH_SIZE,\n",
    "                                       validation_data=val_generator, \n",
    "                                       validation_steps=num_val_images // BATCH_SIZE,\n",
    "                                       shuffle=True, callbacks=callbacks_list)\n",
    "\n",
    "# Plot the training and validation loss + accuracy\n",
    "def plot_training(history):\n",
    "    acc = history.history['acc']\n",
    "    val_acc = history.history['val_acc']\n",
    "    loss = history.history['loss']\n",
    "    val_loss = history.history['val_loss']\n",
    "    epochs = range(len(acc))\n",
    "    plt.plot(epochs, acc, 'r.')\n",
    "    plt.plot(epochs, val_acc, 'r')\n",
    "    plt.title('Training and validation accuracy')\n",
    "    plt.show()\n",
    "    plt.savefig('acc_vs_epochs.png')\n",
    "\n",
    "\n",
    "plot_training(history)\n",
    "\n"
   ]
  },
  {
   "cell_type": "markdown",
   "metadata": {
    "colab_type": "text",
    "id": "Vh1gvDUcj_fR"
   },
   "source": [
    "## Test one pic"
   ]
  },
  {
   "cell_type": "code",
   "execution_count": 13,
   "metadata": {
    "colab": {
     "base_uri": "https://localhost:8080/",
     "height": 34
    },
    "colab_type": "code",
    "id": "MaEhX4hHiEe-",
    "outputId": "77743964-534e-4bea-870f-c86d396bc589"
   },
   "outputs": [
    {
     "name": "stdout",
     "output_type": "stream",
     "text": [
      "open\n"
     ]
    }
   ],
   "source": [
    "finetune_model.load_weights('/content/drive/My Drive/Sign language proj/weights.h5')                                     \n",
    "finetune_model.compile(loss='categorical_crossentropy', optimizer=Adam(lr=0.1), metrics=['accuracy'])\n",
    " \n",
    "class_list = [\"ana\",\"close\",\"continue\",\"eat\",\"fen\",\"listen\",\"open\",\"short\",\"tall\",\"watch\"]\n",
    "\n",
    "filenames = glob.glob(\"/content/drive/My Drive/Sign language proj/Data/test/open/open.161.jpg\")\n",
    "filenames.sort()\n",
    "images = [cv2.imread(img) for img in filenames]\n",
    "\n",
    "for img in images:\n",
    "  img = cv2.resize(img,(300,300))\n",
    "  img = np.reshape(img,[1,300,300,3])\n",
    "  classint = finetune_model.predict(img)[0]\n",
    "  classstr = class_list[classint.argmax()]\n",
    "\n",
    "print(classstr)"
   ]
  },
  {
   "cell_type": "markdown",
   "metadata": {
    "colab_type": "text",
    "id": "dXSofZUWfdTQ"
   },
   "source": [
    "## Test one class"
   ]
  },
  {
   "cell_type": "code",
   "execution_count": 17,
   "metadata": {
    "colab": {
     "base_uri": "https://localhost:8080/",
     "height": 51
    },
    "colab_type": "code",
    "id": "HWRFlt_0flkZ",
    "outputId": "0f468659-191d-494f-cf7b-a966a973928e"
   },
   "outputs": [
    {
     "name": "stdout",
     "output_type": "stream",
     "text": [
      "Accuracy: 69.0 %\n",
      "open\n"
     ]
    }
   ],
   "source": [
    "finetune_model.load_weights('/content/drive/My Drive/Sign language proj/weights.h5')                                     \n",
    "finetune_model.compile(loss='categorical_crossentropy', optimizer=Adam(lr=0.1), metrics=['accuracy'])\n",
    " \n",
    "class_list = [\"ana\",\"close\",\"continue\",\"eat\",\"fen\",\"listen\",\"open\",\"short\",\"tall\",\"watch\"]\n",
    "\n",
    "res = {}\n",
    "filenames = glob.glob(\"/content/drive/My Drive/Sign language proj/Data/test/open/*.jpg\")\n",
    "filenames.sort()\n",
    "images = [cv2.imread(img) for img in filenames]\n",
    "clist = []\n",
    "for img in images:\n",
    "  img = cv2.resize(img,(300,300))\n",
    "  img = np.reshape(img,[1,300,300,3])\n",
    "  classes = finetune_model.predict(img)[0]\n",
    "  clist.append(class_list[classes.argmax()])\n",
    "\n",
    "def most_common(List): \n",
    "    return(mode(List)) \n",
    "percent = np.around(clist.count(most_common(clist))/len(clist)*100)\n",
    "res.update({most_common(clist):percent})\n",
    "print(\"Accuracy: \"+str(percent)+\" %\")\n",
    "print(most_common(clist))"
   ]
  },
  {
   "cell_type": "markdown",
   "metadata": {
    "colab_type": "text",
    "id": "whbwyKdNlfd_"
   },
   "source": [
    "## Test all data"
   ]
  },
  {
   "cell_type": "code",
   "execution_count": 16,
   "metadata": {
    "colab": {
     "base_uri": "https://localhost:8080/",
     "height": 34
    },
    "colab_type": "code",
    "id": "FuyZMTEbSk0p",
    "outputId": "62a446ab-216c-494f-af6d-c268962fdd65"
   },
   "outputs": [
    {
     "name": "stdout",
     "output_type": "stream",
     "text": [
      "{'ana': 93.0, 'close': 70.0, 'continue': 100.0, 'eat': 100.0, 'fen': 99.0, 'listen': 96.0, 'open': 69.0, 'short': 94.0, 'tall': 100.0, 'watch': 91.0}\n"
     ]
    }
   ],
   "source": [
    "finetune_model.load_weights('/content/drive/My Drive/Sign language proj/weights.h5')                                     \n",
    "finetune_model.compile(loss='categorical_crossentropy', optimizer=Adam(lr=0.1), metrics=['accuracy'])\n",
    " \n",
    "class_list = [\"ana\",\"close\",\"continue\",\"eat\",\"fen\",\"listen\",\"open\",\"short\",\"tall\",\"watch\"]\n",
    "\n",
    "res = {}\n",
    "for obj in class_list:\n",
    "  filenames = glob.glob(\"/content/drive/My Drive/Sign language proj/Data/test/\"+obj+\"/*.jpg\")\n",
    "  filenames.sort()\n",
    "  images = [cv2.imread(img) for img in filenames]\n",
    "  clist = []\n",
    "  for img in images:\n",
    "    img = cv2.resize(img,(300,300))\n",
    "    img = np.reshape(img,[1,300,300,3])\n",
    "    classes = finetune_model.predict(img)[0]\n",
    "    clist.append(class_list[classes.argmax()])\n",
    "\n",
    "  def most_common(List): \n",
    "      return(mode(List)) \n",
    "  percent = np.around(clist.count(most_common(clist))/len(clist)*100)\n",
    "  res.update({most_common(clist):percent})\n",
    "  #print(\"Accuracy: \"+str(percent)+\" %\")\n",
    "  #print(most_common(clist))\n",
    "print(res)"
   ]
  },
  {
   "cell_type": "code",
   "execution_count": 0,
   "metadata": {
    "colab": {
     "base_uri": "https://localhost:8080/",
     "height": 34
    },
    "colab_type": "code",
    "id": "TuD4nMtYt2Y_",
    "outputId": "09652d09-c93d-4eb7-c74e-da0badb8051a"
   },
   "outputs": [
    {
     "name": "stdout",
     "output_type": "stream",
     "text": [
      "finiish\n"
     ]
    }
   ],
   "source": [
    "json_string = finetune_model.to_json()\n",
    "with open('/content/drive/My Drive/Sign language proj/model.json','w') as json_file:\n",
    "  json_file.write(json_string)\n",
    "finetune_model.save_weights('/content/drive/My Drive/Sign language proj/weights.h5')\n",
    "print(\"finiish\")\n"
   ]
  }
 ],
 "metadata": {
  "accelerator": "GPU",
  "colab": {
   "collapsed_sections": [],
   "name": "sign language.ipynb",
   "provenance": [],
   "version": "0.3.2"
  },
  "kernelspec": {
   "display_name": "Python 3",
   "language": "python",
   "name": "python3"
  },
  "language_info": {
   "codemirror_mode": {
    "name": "ipython",
    "version": 3
   },
   "file_extension": ".py",
   "mimetype": "text/x-python",
   "name": "python",
   "nbconvert_exporter": "python",
   "pygments_lexer": "ipython3",
   "version": "3.6.4"
  }
 },
 "nbformat": 4,
 "nbformat_minor": 1
}
